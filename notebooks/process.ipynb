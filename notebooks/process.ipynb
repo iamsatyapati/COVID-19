{
 "cells": [
  {
   "cell_type": "code",
   "execution_count": 1,
   "metadata": {},
   "outputs": [],
   "source": [
    "# importing necessary Modules\n",
    "import numpy as np\n",
    "import pandas as pd"
   ]
  },
  {
   "cell_type": "code",
   "execution_count": 2,
   "metadata": {},
   "outputs": [],
   "source": [
    "# Dataframes are created by reading the csv files\n",
    "\n",
    "case = pd.read_csv('case.csv')\n",
    "death = pd.read_csv('death.csv')\n",
    "recov = pd.read_csv('recov.csv')\n",
    "\n",
    "# variables for use\n",
    "dfs = {'case':case, 'death':death, 'recov':recov}\n",
    "to_drop = ['Province/State','Lat','Long']\n",
    "country = case['Country/Region'].unique()"
   ]
  },
  {
   "cell_type": "code",
   "execution_count": 3,
   "metadata": {},
   "outputs": [],
   "source": [
    "def process(name):\n",
    "    \n",
    "    \"\"\"\n",
    "    param : name :: It is the key of the dictionary which contains the dataframes as values and need to be processed\n",
    "                    to get total number of cases/deaths/recovers in a country date wise\n",
    "                    \n",
    "    return : df :: The processed dataframe\n",
    "    \"\"\"\n",
    "    \n",
    "    df = dfs[name] \n",
    "    df = df.drop(to_drop,axis=1)        # dropping State, Lattitude and Longitude as we consider country wise cases\n",
    "    df = df.T                           # taking transpose of the dataframe\n",
    "    df.columns = df.iloc[0,:]           # After transpose the column names are automatically from 0 to n-1 \n",
    "    df = df.iloc[1:,:]                  # As in 0th row contains country names \n",
    "    \n",
    "    \n",
    "    # for each country we want to add whether it is a case, death or recover and aggregate the columns of a same country\n",
    "    for i in country:\n",
    "            i_df = df[[i]]\n",
    "            df[i+'_'+name] = i_df.sum(axis=1)\n",
    "    return df"
   ]
  },
  {
   "cell_type": "code",
   "execution_count": 4,
   "metadata": {},
   "outputs": [],
   "source": [
    "# in process() we add '_' to our modified columns so here we only filter the processed columns. raw columns are dropped\n",
    "# all_df is a list of all the dataframes [case, death, recovered]\n",
    "\n",
    "all_df = []\n",
    "for i in dfs.keys():\n",
    "    d = process(i)\n",
    "    columns = [l for l in d.columns if '_' in l]\n",
    "    d = d[columns]\n",
    "    all_df.append(d)"
   ]
  },
  {
   "cell_type": "code",
   "execution_count": 15,
   "metadata": {},
   "outputs": [],
   "source": [
    "# we concatenate all the dataframes present in all_df and output that as a CSV file\n",
    "\n",
    "df = pd.concat(all_df, axis=1)\n",
    "df.to_csv('Country_wise_total.csv')"
   ]
  },
  {
   "cell_type": "code",
   "execution_count": null,
   "metadata": {},
   "outputs": [],
   "source": []
  }
 ],
 "metadata": {
  "kernelspec": {
   "display_name": "Python 3",
   "language": "python",
   "name": "python3"
  },
  "language_info": {
   "codemirror_mode": {
    "name": "ipython",
    "version": 3
   },
   "file_extension": ".py",
   "mimetype": "text/x-python",
   "name": "python",
   "nbconvert_exporter": "python",
   "pygments_lexer": "ipython3",
   "version": "3.7.4"
  }
 },
 "nbformat": 4,
 "nbformat_minor": 2
}
